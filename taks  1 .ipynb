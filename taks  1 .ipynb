{
 "cells": [
  {
   "cell_type": "markdown",
   "id": "624f195c-fe90-4c39-8baa-fa0573e15b18",
   "metadata": {},
   "source": [
    "Q1. Create a function which will take a list as an argument and return the product of all the numbers\n",
    "after creating a flat list.\n",
    "Use the below-given list as an argument for your function.\n",
    "list1 = [1,2,3,4, [44,55,66, True], False, (34,56,78,89,34), {1,2,3,3,2,1}, {1:34, \"key2\": [55, 67, 78, 89], 4: (45,\n",
    "22, 61, 34)}, [56, 'data science'], 'Machine Learning']\n",
    "Note: you must extract numeric keys and values of the dictionary also."
   ]
  },
  {
   "cell_type": "code",
   "execution_count": 1,
   "id": "786f13a0-d39b-49f4-86b4-3e042b8eda52",
   "metadata": {},
   "outputs": [],
   "source": [
    "list1 = [1,2,3,4, [44,55,66, True], False, (34,56,78,89,34), {1,2,3,3,2,1}, {1:34, \"key2\": [55, 67, 78, 89], 4: (45, 22, 61, 34)}, [56, 'data science'], 'Machine Learning']"
   ]
  },
  {
   "cell_type": "code",
   "execution_count": 23,
   "id": "89985f99-e1f8-40fb-ab08-eb59d31278cc",
   "metadata": {},
   "outputs": [],
   "source": [
    "def my_fun(n):\n",
    "    if list1 == int:\n",
    "        list1**2\n",
    "    print(list1)"
   ]
  },
  {
   "cell_type": "code",
   "execution_count": 24,
   "id": "44bcdcc9-b89f-4173-afe2-481cb95769fa",
   "metadata": {},
   "outputs": [
    {
     "name": "stdout",
     "output_type": "stream",
     "text": [
      "[1, 2, 3, 4, [44, 55, 66, True], False, (34, 56, 78, 89, 34), {1, 2, 3}, {1: 34, 'key2': [55, 67, 78, 89], 4: (45, 22, 61, 34)}, [56, 'data science'], 'Machine Learning']\n"
     ]
    }
   ],
   "source": [
    " my_fun(list1)"
   ]
  },
  {
   "cell_type": "markdown",
   "id": "16e389d1-983e-4b0e-bccd-c491aae7c399",
   "metadata": {},
   "source": [
    "Q2. Write a python program for encrypting a message sent to you by your friend. The logic of encryption\n",
    "should be such that, for a the output should be z. For b, the output should be y. For c, the output should\n",
    "be x respectively. Also, the whitespace should be replaced with a dollar sign. Keep the punctuation\n",
    "marks unchanged.\n",
    "Input Sentence: I want to become a Data Scientist.\n",
    "Encrypt the above input sentence using the program you just created.\n",
    "Note: Convert the given input sentence into lowercase before encrypting. The final output should be\n",
    "lowercase."
   ]
  },
  {
   "cell_type": "code",
   "execution_count": 37,
   "id": "e88797c1-eee2-4d5c-a17e-a282a6da1c26",
   "metadata": {},
   "outputs": [
    {
     "name": "stdin",
     "output_type": "stream",
     "text": [
      "enter the numberr to show the output I want to become a Data Scientist\n"
     ]
    },
    {
     "name": "stdout",
     "output_type": "stream",
     "text": [
      "i want to become a data scientist\n"
     ]
    }
   ],
   "source": [
    "n = input(\"enter the numberr to show the output\")\n",
    "\n",
    "if n == 'a':\n",
    "    print(\"z\")\n",
    "elif n == 'b':\n",
    "    print(\"y\")\n",
    "elif n == 'c':\n",
    "    print(\"x\")\n",
    "elif n == ' ':\n",
    "    print(\"$\")\n",
    "elif n == \"I want to become a Data Scientist\":\n",
    "    print(n.lower())"
   ]
  },
  {
   "cell_type": "code",
   "execution_count": null,
   "id": "beeec2aa-2a3b-4b1f-9b72-2e77e1a8c379",
   "metadata": {},
   "outputs": [],
   "source": []
  }
 ],
 "metadata": {
  "kernelspec": {
   "display_name": "Python 3 (ipykernel)",
   "language": "python",
   "name": "python3"
  },
  "language_info": {
   "codemirror_mode": {
    "name": "ipython",
    "version": 3
   },
   "file_extension": ".py",
   "mimetype": "text/x-python",
   "name": "python",
   "nbconvert_exporter": "python",
   "pygments_lexer": "ipython3",
   "version": "3.10.8"
  }
 },
 "nbformat": 4,
 "nbformat_minor": 5
}
